{
 "cells": [
  {
   "cell_type": "code",
   "execution_count": 1,
   "metadata": {},
   "outputs": [],
   "source": [
    "import os\n",
    "import numpy as np\n",
    "from IPython.display import Image"
   ]
  },
  {
   "cell_type": "code",
   "execution_count": 2,
   "metadata": {},
   "outputs": [],
   "source": [
    "path_troll = os.path.realpath('/home/shasur/dataset/Tamil_memes/train/troll/')\n",
    "path_NOT = os.path.realpath('/home/shasur/dataset/Tamil_memes/train/Not_troll/')\n",
    "path_flickr = os.path.realpath('/home/shasur/dataset/Tamil_memes/with_flickr/train/Not_troll/')"
   ]
  },
  {
   "cell_type": "code",
   "execution_count": 4,
   "metadata": {},
   "outputs": [],
   "source": [
    "troll_img = os.listdir(path_troll)\n",
    "dir_troll = [os.path.join(path_troll, filename) for filename in troll_img]\n",
    "Not_troll_img = os.listdir(path_NOT)\n",
    "dir_not = [os.path.join(path_NOT, filename) for filename in Not_troll_img]\n",
    "flick_img = os.listdir(path_flickr)\n",
    "dir_flickr = [os.path.join(path_flickr, filename) for filename in flick_img]"
   ]
  },
  {
   "cell_type": "code",
   "execution_count": null,
   "metadata": {},
   "outputs": [],
   "source": [
    "# # program to rename the images\n",
    "# for idx, file in enumerate(Not_troll_img):\n",
    "#     filename = os.path.join(path_NOT, file)\n",
    "#     new_filename = 'Not_troll_' + str(idx) + '.' + file.split('.')[1]\n",
    "#     new_filename = os.path.join(path_NOT, new_filename)\n",
    "#     os.rename(filename, new_filename)  \n",
    "\n",
    "\n",
    "# for idx, file in enumerate(troll_img):\n",
    "#     filename = os.path.join(path_troll, file)\n",
    "#     new_filename = 'troll_' + str(idx) + '.' + file.split('.')[1]\n",
    "#     new_filename = os.path.join(path_troll, new_filename)\n",
    "#     os.rename(filename, new_filename) \n",
    "\n",
    "# # program to rename the images\n",
    "# for idx, file in enumerate(flick_img):\n",
    "#     filename = os.path.join(path_flickr, file)\n",
    "#     new_filename = 'flickr_not_troll_' + str(idx) + '.' + file.split('.')[1]\n",
    "#     new_filename = os.path.join(path_flickr, new_filename)\n",
    "#     os.rename(filename, new_filename)"
   ]
  }
 ],
 "metadata": {
  "kernelspec": {
   "display_name": "Python 3",
   "language": "python",
   "name": "python3"
  },
  "language_info": {
   "codemirror_mode": {
    "name": "ipython",
    "version": 3
   },
   "file_extension": ".py",
   "mimetype": "text/x-python",
   "name": "python",
   "nbconvert_exporter": "python",
   "pygments_lexer": "ipython3",
   "version": "3.7.4"
  }
 },
 "nbformat": 4,
 "nbformat_minor": 2
}
